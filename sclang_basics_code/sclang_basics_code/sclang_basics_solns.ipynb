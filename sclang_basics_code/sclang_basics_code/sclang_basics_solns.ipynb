{
 "cells": [
  {
   "cell_type": "markdown",
   "metadata": {},
   "source": [
    "## Basics of SuperCollider"
   ]
  },
  {
   "cell_type": "markdown",
   "metadata": {},
   "source": [
    "### Types\n",
    "\n",
    "Below are examples of several types in SuperCollider.  Every evaluated block of code (in Jupyter Notebooks, this is simply a cell) always returns the last expression calculated by the block of code.  The returned value is indicated in the post window by the prompt `->`.  In the SuperCollider IDE, a block of code is determined by highlight the block and hitting CMD plus Enter (MacOS)."
   ]
  },
  {
   "cell_type": "code",
   "execution_count": null,
   "metadata": {},
   "outputs": [],
   "source": [
    "4 // Integers"
   ]
  },
  {
   "cell_type": "code",
   "execution_count": null,
   "metadata": {},
   "outputs": [],
   "source": [
    "3.0 // Floats"
   ]
  },
  {
   "cell_type": "code",
   "execution_count": null,
   "metadata": {},
   "outputs": [],
   "source": [
    "\"3\" // Strings"
   ]
  },
  {
   "cell_type": "code",
   "execution_count": null,
   "metadata": {},
   "outputs": [],
   "source": [
    "true // Booleans"
   ]
  },
  {
   "cell_type": "code",
   "execution_count": null,
   "metadata": {},
   "outputs": [],
   "source": [
    "false // Booleans"
   ]
  },
  {
   "cell_type": "code",
   "execution_count": null,
   "metadata": {},
   "outputs": [],
   "source": [
    "nil // Equivalent to Python's None"
   ]
  },
  {
   "cell_type": "markdown",
   "metadata": {},
   "source": [
    "To get the type of any object in SuperCollider, use the `.class` method."
   ]
  },
  {
   "cell_type": "code",
   "execution_count": null,
   "metadata": {},
   "outputs": [],
   "source": [
    "4.class"
   ]
  },
  {
   "cell_type": "code",
   "execution_count": null,
   "metadata": {},
   "outputs": [],
   "source": [
    "\"3\".class"
   ]
  },
  {
   "cell_type": "code",
   "execution_count": null,
   "metadata": {},
   "outputs": [],
   "source": [
    "true.class"
   ]
  },
  {
   "cell_type": "markdown",
   "metadata": {},
   "source": [
    "### Operators and Operator Precedence"
   ]
  },
  {
   "cell_type": "markdown",
   "metadata": {},
   "source": [
    "Here are some examples of some of the important operators for sclang."
   ]
  },
  {
   "cell_type": "code",
   "execution_count": null,
   "metadata": {},
   "outputs": [],
   "source": [
    "3 < 4 // Relational operator"
   ]
  },
  {
   "cell_type": "code",
   "execution_count": null,
   "metadata": {},
   "outputs": [],
   "source": [
    "\"panda\" <= \"zebra\" // Strings with relational operators are evaluated by dictionary order."
   ]
  },
  {
   "cell_type": "code",
   "execution_count": null,
   "metadata": {},
   "outputs": [],
   "source": [
    "true && false // Logical and"
   ]
  },
  {
   "cell_type": "code",
   "execution_count": null,
   "metadata": {},
   "outputs": [],
   "source": [
    "true || false // Logical or"
   ]
  },
  {
   "cell_type": "code",
   "execution_count": null,
   "metadata": {},
   "outputs": [],
   "source": [
    "true.not // Logical not is a method"
   ]
  },
  {
   "cell_type": "markdown",
   "metadata": {},
   "source": [
    "Predict the output of the cell below"
   ]
  },
  {
   "cell_type": "code",
   "execution_count": null,
   "metadata": {},
   "outputs": [],
   "source": [
    "3 + 2 * 4"
   ]
  },
  {
   "cell_type": "markdown",
   "metadata": {},
   "source": [
    "Operator precedence is determine from left to right regardless of your \"intuition\" about operator precedence.  For example, PEMDAS is not used for mathematical operators.  Parentheses are the only way to force the precedence of some expression.\n",
    "\n",
    "Predict what the output of the following expressions are:"
   ]
  },
  {
   "cell_type": "code",
   "execution_count": null,
   "metadata": {},
   "outputs": [],
   "source": [
    "(3 < 4) || (3.1 > -1)"
   ]
  },
  {
   "cell_type": "code",
   "execution_count": null,
   "metadata": {},
   "outputs": [],
   "source": [
    "(3 < 4) && (3.1 < -1)"
   ]
  },
  {
   "cell_type": "code",
   "execution_count": null,
   "metadata": {},
   "outputs": [],
   "source": [
    "3 + 4 < 9"
   ]
  },
  {
   "cell_type": "code",
   "execution_count": null,
   "metadata": {},
   "outputs": [],
   "source": [
    "4 - 2 < 3 + 4"
   ]
  },
  {
   "cell_type": "markdown",
   "metadata": {},
   "source": [
    "### Posting\n",
    "\n",
    "Like any good programming language, printing can be done using the `.postln` or `.post` methods.  `.postln` prints to the post window and adds a newline character to the end.  `.post` simply prints to the post window.  Remember that any block of code returns the last expression evaluated so you will see both the return value **and** the posted text in the post window."
   ]
  },
  {
   "cell_type": "code",
   "execution_count": null,
   "metadata": {},
   "outputs": [],
   "source": [
    "4.postln;"
   ]
  },
  {
   "cell_type": "code",
   "execution_count": null,
   "metadata": {},
   "outputs": [],
   "source": [
    "\"Hello world\".post; // Writes message to the post window without a newline"
   ]
  },
  {
   "cell_type": "markdown",
   "metadata": {},
   "source": [
    "### Strings vs. Symbols"
   ]
  },
  {
   "cell_type": "markdown",
   "metadata": {},
   "source": [
    "SuperCollider has three forms of text: strings, symbols and characters.  Strings are denoted with double quotes, symbols with single quotes, and characters are actually created using the `.ascii` or `.asDigit` methods from the Integer class. Both strings and symbols are sequences of characters.  \n",
    "\n",
    "The difference between strings and symbols according to the documentation:\n",
    "\n",
    "\"Unlike strings, two symbols with exactly the same characters will be the exact same object. Symbols are optimized for recreating the same symbol over and over again. In practice, this means that symbols are best used for identifiers or tags that are only meaningful within your program, whereas you should use a string when your characters are really processed as text data. Use symbols to name things, use strings for input and output.\"\n",
    "\n",
    "Practically, strings provide much more flexibility for text processing with many additional methods."
   ]
  },
  {
   "cell_type": "code",
   "execution_count": null,
   "metadata": {},
   "outputs": [],
   "source": [
    "\"This is a string\".class"
   ]
  },
  {
   "cell_type": "code",
   "execution_count": null,
   "metadata": {},
   "outputs": [],
   "source": [
    "'This is a symbol'.class"
   ]
  },
  {
   "cell_type": "markdown",
   "metadata": {},
   "source": [
    "Symbols can also be created by using a backslash.  If using the backslash, then the symbol must contain no spaces and only alphanumeric characters."
   ]
  },
  {
   "cell_type": "code",
   "execution_count": null,
   "metadata": {},
   "outputs": [],
   "source": [
    "\\hello.class"
   ]
  },
  {
   "cell_type": "markdown",
   "metadata": {},
   "source": [
    "Strings offer many convenience methods for string processing that symbols simply do not have."
   ]
  },
  {
   "cell_type": "code",
   "execution_count": null,
   "metadata": {},
   "outputs": [],
   "source": [
    "\"Hello world\".find(\"world\") // Find the starting index of the substring"
   ]
  },
  {
   "cell_type": "code",
   "execution_count": null,
   "metadata": {},
   "outputs": [],
   "source": [
    "'hello world'.find('world') // Will cause an error because there is no `find` method"
   ]
  },
  {
   "cell_type": "markdown",
   "metadata": {},
   "source": [
    "### Char\n",
    "\n",
    "Strings are simply an array of characters.  We can access the characters in a string using indexing."
   ]
  },
  {
   "cell_type": "code",
   "execution_count": null,
   "metadata": {},
   "outputs": [],
   "source": [
    "\"Andy\"[0]"
   ]
  },
  {
   "cell_type": "code",
   "execution_count": null,
   "metadata": {},
   "outputs": [],
   "source": [
    "\"Andy\"[4] // No index out of bounds error - simply evaluates to `nil`"
   ]
  },
  {
   "cell_type": "markdown",
   "metadata": {},
   "source": [
    "Characters are distinct types from strings."
   ]
  },
  {
   "cell_type": "code",
   "execution_count": null,
   "metadata": {},
   "outputs": [],
   "source": [
    "\"Andy\"[0].class"
   ]
  },
  {
   "cell_type": "markdown",
   "metadata": {},
   "source": [
    "To write a literal character use the `$` before the character name."
   ]
  },
  {
   "cell_type": "code",
   "execution_count": null,
   "metadata": {},
   "outputs": [],
   "source": [
    "$A // The character `A`"
   ]
  },
  {
   "cell_type": "code",
   "execution_count": null,
   "metadata": {},
   "outputs": [],
   "source": [
    "$A == \"A\" // Note that these are not equivalent because they are not the same type"
   ]
  },
  {
   "cell_type": "markdown",
   "metadata": {},
   "source": [
    "Note that while symbols are a collection of characters, we cannot access the characters within a symbol.  All text-based operations should be done with strings.  Symbols are a convention for naming."
   ]
  },
  {
   "cell_type": "markdown",
   "metadata": {},
   "source": [
    "### The Semicolon\n",
    "\n",
    "Multiple expressions and statements need to be separated by semicolons.  Evaluating a single expression or statement does not require the use of a semicolon."
   ]
  },
  {
   "cell_type": "code",
   "execution_count": null,
   "metadata": {},
   "outputs": [],
   "source": [
    "4.postln;\n",
    "3.postln"
   ]
  },
  {
   "cell_type": "code",
   "execution_count": null,
   "metadata": {},
   "outputs": [],
   "source": [
    "4.postln; 3.postln"
   ]
  },
  {
   "cell_type": "markdown",
   "metadata": {},
   "source": [
    "### Variables\n",
    "\n",
    "There are several different kinds of variables in SuperCollider: \n",
    "\n",
    "1. Interpreter variables  \n",
    "2. Environment variables  \n",
    "3. Local variables"
   ]
  },
  {
   "cell_type": "markdown",
   "metadata": {},
   "source": [
    "#### Interpreter Variables\n",
    "\n",
    "Interpreter variables are global variables that persist throughout any sclang session.  SuperCollider provides 26 interpreter variables (the letters a through z).  The interpreter variable `s` is reserved specifically for communication with the audio server.  **YOU SHOULD NEVER REASSIGN `S`**."
   ]
  },
  {
   "cell_type": "code",
   "execution_count": null,
   "metadata": {},
   "outputs": [],
   "source": [
    "a = 3 // binding of the value 3 to the interpreter variable a"
   ]
  },
  {
   "cell_type": "code",
   "execution_count": null,
   "metadata": {},
   "outputs": [],
   "source": [
    "a"
   ]
  },
  {
   "cell_type": "markdown",
   "metadata": {},
   "source": [
    "#### Environment Variables\n",
    "\n",
    "An environment is similar to a namespace in other languages.  An environment holds a series of global variables assigned through the use of a tilde.  SuperCollider can switch between various environments."
   ]
  },
  {
   "cell_type": "code",
   "execution_count": null,
   "metadata": {},
   "outputs": [],
   "source": [
    "~myVar = 4 // binding of the value 4 to the environment variable myVar"
   ]
  },
  {
   "cell_type": "code",
   "execution_count": null,
   "metadata": {},
   "outputs": [],
   "source": [
    "~myVar"
   ]
  },
  {
   "cell_type": "code",
   "execution_count": null,
   "metadata": {},
   "outputs": [],
   "source": [
    "currentEnvironment // see the bindings in the current environment"
   ]
  },
  {
   "cell_type": "code",
   "execution_count": null,
   "metadata": {},
   "outputs": [],
   "source": [
    "~myVar2 = \"Hello\""
   ]
  },
  {
   "cell_type": "code",
   "execution_count": null,
   "metadata": {},
   "outputs": [],
   "source": [
    "currentEnvironment"
   ]
  },
  {
   "cell_type": "markdown",
   "metadata": {},
   "source": [
    "In general, you should not worry about in which environment you are working.  We will rarely, if ever, have a need to put global variables in separate environments.  Feel free to use interpreter variables as global variables throughout your program."
   ]
  },
  {
   "cell_type": "markdown",
   "metadata": {},
   "source": [
    "#### Local Variables\n",
    "\n",
    "Local variables are variable whose scope extends only to the code block in which it was declared."
   ]
  },
  {
   "cell_type": "code",
   "execution_count": null,
   "metadata": {},
   "outputs": [],
   "source": [
    "var myVar = 4 * 3;\n",
    "myVar.postln"
   ]
  },
  {
   "cell_type": "markdown",
   "metadata": {},
   "source": [
    "We cannot access the variable myVar again because it was local only to block above.  This will produce an error that complains that the variable myVar is not defined."
   ]
  },
  {
   "cell_type": "code",
   "execution_count": null,
   "metadata": {},
   "outputs": [],
   "source": [
    "myVar"
   ]
  },
  {
   "cell_type": "markdown",
   "metadata": {},
   "source": [
    "## Functions"
   ]
  },
  {
   "cell_type": "markdown",
   "metadata": {},
   "source": [
    "Below is a simple function in sclang.  Functions are declared using curly brackets.  Parameters are declared using vertical pipes.  Functions return the **last expression evaluated**.  There is no explicit return statement.  Functions can be assigned to a variable in order to refer to them."
   ]
  },
  {
   "cell_type": "code",
   "execution_count": null,
   "metadata": {},
   "outputs": [],
   "source": [
    "~square = {|x| x * x}"
   ]
  },
  {
   "cell_type": "code",
   "execution_count": null,
   "metadata": {},
   "outputs": [],
   "source": [
    "~square.value(4)"
   ]
  },
  {
   "cell_type": "code",
   "execution_count": null,
   "metadata": {},
   "outputs": [],
   "source": [
    "~square.value(3)"
   ]
  },
  {
   "cell_type": "markdown",
   "metadata": {},
   "source": [
    "Function parameters can also be declared using the keyword arg."
   ]
  },
  {
   "cell_type": "code",
   "execution_count": null,
   "metadata": {},
   "outputs": [],
   "source": [
    "~square = {arg x; x * x}"
   ]
  },
  {
   "cell_type": "code",
   "execution_count": null,
   "metadata": {},
   "outputs": [],
   "source": [
    "~square.value(4)"
   ]
  },
  {
   "cell_type": "code",
   "execution_count": null,
   "metadata": {},
   "outputs": [],
   "source": [
    "~square.(4) // A shorthand for the .value method"
   ]
  },
  {
   "cell_type": "code",
   "execution_count": null,
   "metadata": {},
   "outputs": [],
   "source": [
    "value(~square, 4) // Alternate syntax.  Give the method name first."
   ]
  },
  {
   "cell_type": "markdown",
   "metadata": {},
   "source": [
    "Local variables can also be declared within functions.  **All local variables must be declared at the top of the function's body**."
   ]
  },
  {
   "cell_type": "code",
   "execution_count": null,
   "metadata": {},
   "outputs": [],
   "source": [
    "~distance = {\n",
    "    arg x1, y1, x2, y2;\n",
    "    var distance;\n",
    "    distance = ((y2 - y1) ** 2) + ((x2 - x1) ** 2); // note parentheses\n",
    "    distance.sqrt // Last expression evaluated is returned\n",
    "}"
   ]
  },
  {
   "cell_type": "code",
   "execution_count": null,
   "metadata": {},
   "outputs": [],
   "source": [
    "~distance.value(2, 1, 5, 5)"
   ]
  },
  {
   "cell_type": "markdown",
   "metadata": {},
   "source": [
    "Note how the code below which computes the same result throws an error because the variable `result` is not declared at the top."
   ]
  },
  {
   "cell_type": "code",
   "execution_count": null,
   "metadata": {},
   "outputs": [],
   "source": [
    "~distance = {\n",
    "    arg x1, y1, x2, y2;\n",
    "    var distance;\n",
    "    distance = ((y2 - y1) ** 2) + ((x2 - x1) ** 2); \n",
    "    var result = distance.sqrt;\n",
    "    result\n",
    "}"
   ]
  },
  {
   "cell_type": "markdown",
   "metadata": {},
   "source": [
    "## Conditionals"
   ]
  },
  {
   "cell_type": "markdown",
   "metadata": {},
   "source": [
    "SuperCollider uses the following control structure for conditionals:\n",
    "\n",
    "`if(expr, trueFunc, falseFunc)`\n",
    "\n",
    "A conditional in sclang evaluates the expression.  If the expression is true, then the true **function** is evaluated.  If the expression is false, then the false function is evaluated.  Furthermore, the if syntax is not a statement, it is an expression and will return the value of the true branch or the false branch.  "
   ]
  },
  {
   "cell_type": "code",
   "execution_count": null,
   "metadata": {},
   "outputs": [],
   "source": [
    "var num = 4;\n",
    "if(num > 3, \n",
    "    {\"Your number is greater than 3.\".postln}, // True branch\n",
    "    {\"Your number is less or equal to 3.\".postln} // False branch\n",
    ");"
   ]
  },
  {
   "cell_type": "markdown",
   "metadata": {},
   "source": [
    "You can omit the else branch if you like as well."
   ]
  },
  {
   "cell_type": "code",
   "execution_count": null,
   "metadata": {},
   "outputs": [],
   "source": [
    "var num = 4;\n",
    "if(num > 3, \n",
    "    {\"Your number is greater than 3.\".postln;}\n",
    ")"
   ]
  },
  {
   "cell_type": "markdown",
   "metadata": {},
   "source": [
    "Remember that `if` is an expression.  If one of the branches is not defined, the if expression will resolve to `nil` if called."
   ]
  },
  {
   "cell_type": "code",
   "execution_count": null,
   "metadata": {},
   "outputs": [],
   "source": [
    "var num = 2;\n",
    "if(num > 3, // This will take the false branch that is not defined\n",
    "    {\"Your number is greater than 3.\".postln;}\n",
    ")"
   ]
  },
  {
   "cell_type": "markdown",
   "metadata": {},
   "source": [
    "## Practice"
   ]
  },
  {
   "cell_type": "markdown",
   "metadata": {},
   "source": [
    "Write a function `~sparta` that always returns the number 300."
   ]
  },
  {
   "cell_type": "code",
   "execution_count": null,
   "metadata": {},
   "outputs": [],
   "source": [
    "// Your code here\n",
    "\n",
    "~sparta = {300}"
   ]
  },
  {
   "cell_type": "code",
   "execution_count": null,
   "metadata": {},
   "outputs": [],
   "source": [
    "~sparta.value()"
   ]
  },
  {
   "cell_type": "markdown",
   "metadata": {},
   "source": [
    "Write a function called `~excited` that takes a string and returns the string with three exclamation points.  String concatenation can be done with the `++` operator."
   ]
  },
  {
   "cell_type": "code",
   "execution_count": null,
   "metadata": {},
   "outputs": [],
   "source": [
    "// Your code here\n",
    "\n",
    "~excited = {\n",
    "    |str|\n",
    "    str ++ \"!!!\"\n",
    "}"
   ]
  },
  {
   "cell_type": "code",
   "execution_count": null,
   "metadata": {},
   "outputs": [],
   "source": [
    "~excited.value(\"Hooray\")"
   ]
  },
  {
   "cell_type": "code",
   "execution_count": null,
   "metadata": {},
   "outputs": [],
   "source": [
    "~excited.value(\"Music\")"
   ]
  },
  {
   "cell_type": "markdown",
   "metadata": {},
   "source": [
    "Write a function called `~absValue` that returns the absolute value of a number."
   ]
  },
  {
   "cell_type": "code",
   "execution_count": null,
   "metadata": {},
   "outputs": [],
   "source": [
    "// Your code here\n",
    "\n",
    "~absValue = {\n",
    "    arg num;\n",
    "    if(num < 0, {-1 * num}, {num})\n",
    "}"
   ]
  },
  {
   "cell_type": "code",
   "execution_count": null,
   "metadata": {},
   "outputs": [],
   "source": [
    "~absValue.value(4)"
   ]
  },
  {
   "cell_type": "code",
   "execution_count": null,
   "metadata": {},
   "outputs": [],
   "source": [
    "~absValue.value(-3)"
   ]
  },
  {
   "cell_type": "markdown",
   "metadata": {},
   "source": [
    "Write a function called `isSpeeding` that takes a number and prints out \"Slow down!\" if the number is greater than 65 and does nothing otherwise."
   ]
  },
  {
   "cell_type": "code",
   "execution_count": null,
   "metadata": {},
   "outputs": [],
   "source": [
    "// Your code here\n",
    "\n",
    "~isSpeeding = {\n",
    "    |speed|\n",
    "    if(speed > 65, {\"Slow down\".postln})\n",
    "}"
   ]
  },
  {
   "cell_type": "code",
   "execution_count": null,
   "metadata": {},
   "outputs": [],
   "source": [
    "~isSpeeding.value(70)"
   ]
  },
  {
   "cell_type": "code",
   "execution_count": null,
   "metadata": {},
   "outputs": [],
   "source": [
    "~isSpeeding.value(60)"
   ]
  },
  {
   "cell_type": "markdown",
   "metadata": {},
   "source": [
    "Write a recursive function `~fact` that computes the factorial of a number."
   ]
  },
  {
   "cell_type": "code",
   "execution_count": null,
   "metadata": {},
   "outputs": [],
   "source": [
    "// Your code here\n",
    "\n",
    "~fact = {\n",
    "    |x|\n",
    "    if (x == 0, {1}, {x * ~fact.value(x - 1)})\n",
    "}"
   ]
  },
  {
   "cell_type": "code",
   "execution_count": null,
   "metadata": {},
   "outputs": [],
   "source": [
    "~fact.value(4)"
   ]
  },
  {
   "cell_type": "code",
   "execution_count": null,
   "metadata": {},
   "outputs": [],
   "source": [
    "~fact.value(1)"
   ]
  },
  {
   "cell_type": "markdown",
   "metadata": {},
   "source": [
    "Here's a little bit more a challenge.  Write a recursive function that takes a number `i` and computes the `i`th fibonacci number.  Here's a little info on the Fibonacci sequence: <https://en.wikipedia.org/wiki/Fibonacci_number>"
   ]
  },
  {
   "cell_type": "code",
   "execution_count": null,
   "metadata": {},
   "outputs": [],
   "source": [
    "// Your code here\n",
    "\n",
    "~fib = {\n",
    "    |i|\n",
    "    if((i == 0) || (i == 1), \n",
    "        {i}, \n",
    "        {~fib.value(i - 1) + ~fib.value(i - 2)}\n",
    "    );\n",
    "}"
   ]
  },
  {
   "cell_type": "code",
   "execution_count": null,
   "metadata": {},
   "outputs": [],
   "source": [
    "~fib.value(0) // should return 0"
   ]
  },
  {
   "cell_type": "code",
   "execution_count": null,
   "metadata": {},
   "outputs": [],
   "source": [
    "~fib.value(1) // should return 1"
   ]
  },
  {
   "cell_type": "code",
   "execution_count": null,
   "metadata": {},
   "outputs": [],
   "source": [
    "~fib.value(2) // should return 1"
   ]
  },
  {
   "cell_type": "code",
   "execution_count": null,
   "metadata": {},
   "outputs": [],
   "source": [
    "~fib.value(4) // should return 3"
   ]
  },
  {
   "cell_type": "code",
   "execution_count": null,
   "metadata": {},
   "outputs": [],
   "source": [
    "~fib.value(8) // should return 21"
   ]
  },
  {
   "cell_type": "markdown",
   "metadata": {},
   "source": [
    "## Scope"
   ]
  },
  {
   "cell_type": "markdown",
   "metadata": {},
   "source": [
    "SuperCollider has both lexical and dynamic scoping.  Lexical scoping allows for inner contexts to have access to outer variables as shown in the example below.  The variable `num` referred to in `func` references the `num` declared on the first line."
   ]
  },
  {
   "cell_type": "code",
   "execution_count": null,
   "metadata": {},
   "outputs": [],
   "source": [
    "var num = 4;\n",
    "var func = {\n",
    "    num + 1 // references num from first line\n",
    "};\n",
    "func.value(4) "
   ]
  },
  {
   "cell_type": "markdown",
   "metadata": {},
   "source": [
    "With environment variables, we can use dynamic scoping.  This means we can use environment variables in functions or other parts of our code before they have been defined.  All that matters is that the environment variable has been defined by the time the function/code is called/executed."
   ]
  },
  {
   "cell_type": "code",
   "execution_count": null,
   "metadata": {},
   "outputs": [],
   "source": [
    "~func = {\n",
    "    ~bar + 1 // no error!\n",
    "}"
   ]
  },
  {
   "cell_type": "markdown",
   "metadata": {},
   "source": [
    "When we evaluate below, this throws an error because `~bar` is not defined."
   ]
  },
  {
   "cell_type": "code",
   "execution_count": null,
   "metadata": {},
   "outputs": [],
   "source": [
    "~func.value()"
   ]
  },
  {
   "cell_type": "markdown",
   "metadata": {},
   "source": [
    "Once we assign `~bar` to a value though, everything will work."
   ]
  },
  {
   "cell_type": "code",
   "execution_count": null,
   "metadata": {},
   "outputs": [],
   "source": [
    "~bar = 3"
   ]
  },
  {
   "cell_type": "code",
   "execution_count": null,
   "metadata": {},
   "outputs": [],
   "source": [
    "~func.value()"
   ]
  },
  {
   "cell_type": "markdown",
   "metadata": {},
   "source": [
    "## Iteration\n",
    "\n",
    "### While Loops"
   ]
  },
  {
   "cell_type": "markdown",
   "metadata": {},
   "source": [
    "While loops are the best control structure for iteration in SuperCollider.  SuperCollider does have syntatic sugar for for loops; however, there are edge cases with sclang for loops that are unintuitive.  We will discuss them momentarily.\n",
    "\n",
    "While loops in sclang have the following syntax:\n",
    "\n",
    "`while(testFunc, evalFunc)`\n",
    "\n",
    "A while loop in sclang evaluates the test function.  If the result is `True` then the evaluating function is evaluated.  If the result is `False`, the loop terminates."
   ]
  },
  {
   "cell_type": "code",
   "execution_count": null,
   "metadata": {},
   "outputs": [],
   "source": [
    "var i = 0;\n",
    "while({i < 4}, {\n",
    "    i.postln; \n",
    "    i = i + 1\n",
    "});"
   ]
  },
  {
   "cell_type": "code",
   "execution_count": null,
   "metadata": {},
   "outputs": [],
   "source": [
    "// This block of code does repeated string concatenation\n",
    "\n",
    "var string = \"CDE\";\n",
    "var numIterations = 4;\n",
    "\n",
    "var result = \"\";\n",
    "var i = 0;\n",
    "while({i < numIterations}, {\n",
    "    result = result ++ string;\n",
    "    i = i + 1\n",
    "});\n",
    "result"
   ]
  },
  {
   "cell_type": "markdown",
   "metadata": {},
   "source": [
    "Here is an example below of using iteration within the context of a function.  This function computes the factorial of a number using iteration."
   ]
  },
  {
   "cell_type": "code",
   "execution_count": null,
   "metadata": {},
   "outputs": [],
   "source": [
    "// Iterative code for computing factorial\n",
    "\n",
    "~factIterative = {\n",
    "    |num|\n",
    "    \n",
    "    var count = 1;\n",
    "    var i = 1;\n",
    "    while({i <= num}, {\n",
    "        count = count * i;\n",
    "        i = i + 1\n",
    "    });\n",
    "    count // last expression is returned\n",
    "}"
   ]
  },
  {
   "cell_type": "code",
   "execution_count": null,
   "metadata": {},
   "outputs": [],
   "source": [
    "~factIterative.value(4)"
   ]
  },
  {
   "cell_type": "code",
   "execution_count": null,
   "metadata": {},
   "outputs": [],
   "source": [
    "~factIterative.value(8) // Should be 40320"
   ]
  },
  {
   "cell_type": "code",
   "execution_count": null,
   "metadata": {},
   "outputs": [],
   "source": [
    "~factIterative.value(1)"
   ]
  },
  {
   "cell_type": "code",
   "execution_count": null,
   "metadata": {},
   "outputs": [],
   "source": [
    "~factIterative.value(0)"
   ]
  },
  {
   "cell_type": "markdown",
   "metadata": {},
   "source": [
    "### For loops\n",
    "\n",
    "For loops in sclang are different than other languages.  For loops iterate over an integer series.\n",
    "\n",
    "`for ( startValue, endValue, function )`\n",
    "\n",
    "The for loop begins at the start value and increments by one up to and **including the end value**.  The function passed as the third argument can capture the iteration value using an argument."
   ]
  },
  {
   "cell_type": "code",
   "execution_count": null,
   "metadata": {},
   "outputs": [],
   "source": [
    "for(1, 3, {|x| x.postln})"
   ]
  },
  {
   "cell_type": "code",
   "execution_count": null,
   "metadata": {},
   "outputs": [],
   "source": [
    "for(-2, 7, {|x| x.postln})"
   ]
  },
  {
   "cell_type": "code",
   "execution_count": null,
   "metadata": {},
   "outputs": [],
   "source": [
    "for(1, 1, {|x| x.postln}) // 1 is printed!"
   ]
  },
  {
   "cell_type": "markdown",
   "metadata": {},
   "source": [
    "If the second number is less than the first, then the loop decreases by one."
   ]
  },
  {
   "cell_type": "code",
   "execution_count": null,
   "metadata": {},
   "outputs": [],
   "source": [
    "for(1, 0, {|x| x.postln}) // 1 and 0 is printed!"
   ]
  },
  {
   "cell_type": "markdown",
   "metadata": {},
   "source": [
    "**IMPORTANT:** for loops in sclang can work improperly with certain edge cases if there are scenarios where the loop should never execute."
   ]
  },
  {
   "cell_type": "markdown",
   "metadata": {},
   "source": [
    "### Do loops"
   ]
  },
  {
   "cell_type": "markdown",
   "metadata": {},
   "source": [
    "An alternative to for loops are do loops which are actually a method for integers.\n",
    "\n",
    "`int.do(function)`\n",
    "\n",
    "The function like the one in the for loop can capture the iteration number using an argument."
   ]
  },
  {
   "cell_type": "code",
   "execution_count": null,
   "metadata": {},
   "outputs": [],
   "source": [
    "3.do({|x| x.postln})"
   ]
  },
  {
   "cell_type": "code",
   "execution_count": null,
   "metadata": {},
   "outputs": [],
   "source": [
    "0.do({|x| x.postln})"
   ]
  },
  {
   "cell_type": "markdown",
   "metadata": {},
   "source": [
    "When in doubt, use a while loop.  There are other syntactical structures for iteration that are conveniences.  A while loop will work in any scenario where you need iteration."
   ]
  },
  {
   "cell_type": "markdown",
   "metadata": {},
   "source": [
    "### Iteration Exercises"
   ]
  },
  {
   "cell_type": "markdown",
   "metadata": {},
   "source": [
    "Write a function called `~partials` which takes a number `fund` that represents the frequency of a particular sound and `numPartials` which represents the number of partials. We will learn soon that sound is composed of frequencies and that single notes often contain multiple frequencies called partials.  These partials tend to follow a particular pattern called the harmonic series.  \n",
    "\n",
    "For example, given a frequency 440 (Concert A), the partials of 440 are simply multiples of 440.  The first five partials of 440 are 440, 880, 1320, 1760, and 2200.  Your function `~partials` should print out `numPartials` partials of a given frequency `fund` indicating the fundamental frequency of a note."
   ]
  },
  {
   "cell_type": "code",
   "execution_count": null,
   "metadata": {},
   "outputs": [],
   "source": [
    "// Your code here\n",
    "\n",
    "~partials = {\n",
    "    |fund, numPartials|\n",
    "    \n",
    "    var i = 1;\n",
    "    while({i <= numPartials}, {\n",
    "        (fund * i).postln;\n",
    "        i = i + 1\n",
    "    });\n",
    "    nil // Specify that this function has no return value\n",
    "};\n",
    "\n",
    "// Alternative using do loop\n",
    "~partials = {\n",
    "    |fund, numPartials|\n",
    "    \n",
    "    numPartials.do({\n",
    "        arg i; (fund * (i + 1)).postln;\n",
    "    });\n",
    "    nil\n",
    "}"
   ]
  },
  {
   "cell_type": "code",
   "execution_count": null,
   "metadata": {},
   "outputs": [],
   "source": [
    "~partials.value(440, 5)"
   ]
  },
  {
   "cell_type": "code",
   "execution_count": null,
   "metadata": {},
   "outputs": [],
   "source": [
    "~partials.value(300, 1)"
   ]
  },
  {
   "cell_type": "code",
   "execution_count": null,
   "metadata": {},
   "outputs": [],
   "source": [
    "~partials.value(100, 30)"
   ]
  },
  {
   "cell_type": "code",
   "execution_count": null,
   "metadata": {},
   "outputs": [],
   "source": [
    "~partials.value(50, 0) // should print nothing"
   ]
  },
  {
   "cell_type": "markdown",
   "metadata": {},
   "source": [
    "Write a function `~countNumsInString` which takes a string and reports the number of decimal digits (i.e., the characters 0 - 9) in the string.  For example, the string `\"abc123\"` has three digits.  To solve this, you need to know that strings are arrays of characters.  To get the ith character from a string `str` simply use `str[i]`.  The `.isDecDigit` method returns a boolean stating whether the character is a decimal digit and the `.size` method gets the length of a string."
   ]
  },
  {
   "cell_type": "code",
   "execution_count": null,
   "metadata": {},
   "outputs": [],
   "source": [
    "// Your code here\n",
    "\n",
    "~countNumsInString = {\n",
    "    |str|\n",
    "    var i = 0;\n",
    "    var count = 0;\n",
    "    \n",
    "    while({i < str.size}, {\n",
    "        if(str[i].isDecDigit, {count = count + 1});\n",
    "        i = i + 1;\n",
    "    });\n",
    "    count\n",
    "}"
   ]
  },
  {
   "cell_type": "code",
   "execution_count": null,
   "metadata": {},
   "outputs": [],
   "source": [
    "~countNumsInString.value(\"a12b\")"
   ]
  },
  {
   "cell_type": "code",
   "execution_count": null,
   "metadata": {},
   "outputs": [],
   "source": [
    "~countNumsInString.value(\"4a341b\")"
   ]
  },
  {
   "cell_type": "code",
   "execution_count": null,
   "metadata": {},
   "outputs": [],
   "source": [
    "~countNumsInString.value(\"\")"
   ]
  },
  {
   "cell_type": "markdown",
   "metadata": {},
   "source": [
    "## Arrays"
   ]
  },
  {
   "cell_type": "markdown",
   "metadata": {},
   "source": [
    "Arrays in sclang are an ordered collection of any item.  In many ways, they are similar to lists from Python.  Arrays though are used for fixed size storage.  We do not accumulate arrays like we typically do in Python.  It turns out that this is not something we typically need for musical purposes.  \n",
    "\n",
    "Literal arrays are declared using brackets with commas to delineate each item in the list."
   ]
  },
  {
   "cell_type": "code",
   "execution_count": null,
   "metadata": {},
   "outputs": [],
   "source": [
    "~listOfNums = [42, 3, 0, -9, 17]"
   ]
  },
  {
   "cell_type": "code",
   "execution_count": null,
   "metadata": {},
   "outputs": [],
   "source": [
    "~listOfNums.class"
   ]
  },
  {
   "cell_type": "markdown",
   "metadata": {},
   "source": [
    "You can use indices and the indexing operator `[ ]` to get the elements in the array."
   ]
  },
  {
   "cell_type": "code",
   "execution_count": null,
   "metadata": {},
   "outputs": [],
   "source": [
    "~listOfNums[3]"
   ]
  },
  {
   "cell_type": "markdown",
   "metadata": {},
   "source": [
    "You can also change the elements in the array as well using an assignment statement"
   ]
  },
  {
   "cell_type": "code",
   "execution_count": null,
   "metadata": {},
   "outputs": [],
   "source": [
    "~listOfNums[0] = 4 // Change index 0 to be 4"
   ]
  },
  {
   "cell_type": "markdown",
   "metadata": {},
   "source": [
    "You can also create an immutable array using the hashtag in front of the array."
   ]
  },
  {
   "cell_type": "code",
   "execution_count": null,
   "metadata": {},
   "outputs": [],
   "source": [
    "~myList = #[1, true, nil, 0.9]"
   ]
  },
  {
   "cell_type": "code",
   "execution_count": null,
   "metadata": {},
   "outputs": [],
   "source": [
    "~myList[1] = false // we can't change the array because it is immutable"
   ]
  },
  {
   "cell_type": "markdown",
   "metadata": {},
   "source": [
    "Iterating over an array is easy with a `.do` loop.  The function for the `.do` loop can accept arguments for both the item and the index."
   ]
  },
  {
   "cell_type": "code",
   "execution_count": null,
   "metadata": {},
   "outputs": [],
   "source": [
    "~listOfNums.do({\n",
    "  arg item, i;\n",
    "  (\"Item:\" + item.asString + \"| Index:\" + i.asString).postln;\n",
    "})"
   ]
  },
  {
   "cell_type": "markdown",
   "metadata": {},
   "source": [
    "### Array Exercises\n",
    "\n",
    "Write a function called `~allPositive` that takes a list of numbers and returns `true` if every element in the list is positive and `false` otherwise."
   ]
  },
  {
   "cell_type": "code",
   "execution_count": null,
   "metadata": {},
   "outputs": [],
   "source": [
    "// Your code here\n",
    "~allPositive = {\n",
    "  arg numList;\n",
    "  var isPositive = true;\n",
    "  \n",
    "  numList.do({\n",
    "    arg item;\n",
    "    if(item <= 0, {isPositive = false;})\n",
    "  });\n",
    "  isPositive\n",
    "}"
   ]
  },
  {
   "cell_type": "code",
   "execution_count": null,
   "metadata": {},
   "outputs": [],
   "source": [
    "~allPositive.value([45, 3, 1])"
   ]
  },
  {
   "cell_type": "code",
   "execution_count": null,
   "metadata": {},
   "outputs": [],
   "source": [
    "~allPositive.value([-5, 4])"
   ]
  },
  {
   "cell_type": "markdown",
   "metadata": {},
   "source": [
    "The end."
   ]
  }
 ],
 "metadata": {
  "kernelspec": {
   "display_name": "SC_Kernel",
   "language": "text",
   "name": "sckernel"
  },
  "language_info": {
   "codemirror_mode": "sclang",
   "name": "sclang"
  }
 },
 "nbformat": 4,
 "nbformat_minor": 2
}
