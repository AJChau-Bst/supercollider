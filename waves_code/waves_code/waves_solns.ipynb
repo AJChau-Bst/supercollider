{
 "cells": [
  {
   "cell_type": "markdown",
   "metadata": {},
   "source": [
    "# Fundamental Waves\n",
    "\n",
    "Boot the server to get started!"
   ]
  },
  {
   "cell_type": "code",
   "execution_count": 2,
   "metadata": {},
   "outputs": [
    {
     "name": "stdout",
     "output_type": "stream",
     "text": []
    }
   ],
   "source": [
    "s.boot;"
   ]
  },
  {
   "cell_type": "markdown",
   "metadata": {},
   "source": [
    "## Additive Synthesis with Arrays"
   ]
  },
  {
   "cell_type": "markdown",
   "metadata": {},
   "source": [
    "### Using Arrays for Additive Synthesis\n",
    "\n",
    "To construct a wave of multiple sine waves, we first need some knowledge about how addition of arrays work in SuperCollider.  In Python, if we add two lists those lists are concatenated.  For example, `[1, 2] + [3, 4]` produces a new list of `[1, 2, 3, 4]`.  Observe though the behavior in sclang. "
   ]
  },
  {
   "cell_type": "code",
   "execution_count": 4,
   "metadata": {},
   "outputs": [
    {
     "name": "stdout",
     "output_type": "stream",
     "text": []
    }
   ],
   "source": [
    "[1, 2] + [3, 4]"
   ]
  },
  {
   "cell_type": "markdown",
   "metadata": {},
   "source": [
    "Notice how the elements of the two arrays are added together pointwise.  We can use the same strategy to add sine waves together."
   ]
  },
  {
   "cell_type": "code",
   "execution_count": 5,
   "metadata": {},
   "outputs": [
    {
     "name": "stdout",
     "output_type": "stream",
     "text": []
    }
   ],
   "source": [
    "{\n",
    "  var sineArray1 = [SinOsc.ar(220, mul: 0.1), SinOsc.ar(220, mul: 0.1)];\n",
    "  var sineArray2 = [SinOsc.ar(660, mul: 0.1), SinOsc.ar(660, mul: 0.1)];\n",
    "  \n",
    "  // Add each sine wave pointwise\n",
    "  // This will result in an array of two items: the left channel at index 0 and the right channel at index 1\n",
    "  sineArray1 + sineArray2\n",
    "}.play"
   ]
  },
  {
   "cell_type": "code",
   "execution_count": 6,
   "metadata": {},
   "outputs": [
    {
     "name": "stdout",
     "output_type": "stream",
     "text": []
    }
   ],
   "source": [
    "CmdPeriod.run // stop sound"
   ]
  },
  {
   "cell_type": "markdown",
   "metadata": {},
   "source": [
    "Here's a slightly more compact version of the same thing using multichannel expansion."
   ]
  },
  {
   "cell_type": "code",
   "execution_count": 7,
   "metadata": {},
   "outputs": [
    {
     "name": "stdout",
     "output_type": "stream",
     "text": []
    }
   ],
   "source": [
    "{SinOsc.ar([220, 220], mul: 0.1) + SinOsc.ar([660, 660], mul: 0.1)}.play"
   ]
  },
  {
   "cell_type": "code",
   "execution_count": 8,
   "metadata": {},
   "outputs": [
    {
     "name": "stdout",
     "output_type": "stream",
     "text": []
    }
   ],
   "source": [
    "CmdPeriod.run // stop sound"
   ]
  },
  {
   "cell_type": "markdown",
   "metadata": {},
   "source": [
    "### Aside: Be Careful using UGens outside the function definition"
   ]
  },
  {
   "cell_type": "markdown",
   "metadata": {},
   "source": [
    "You might think the code below is reasonable.  Functions have access to variables in their outer context but nevertheless this code will fail silently and we won't hear anything.  This is a common mistake for first-time users of SuperCollider."
   ]
  },
  {
   "cell_type": "code",
   "execution_count": 7,
   "metadata": {},
   "outputs": [
    {
     "name": "stdout",
     "output_type": "stream",
     "text": []
    }
   ],
   "source": [
    "// Buggy!!\n",
    "var test = SinOsc.ar(440, mul: 0.1);\n",
    "{test}.play;"
   ]
  },
  {
   "cell_type": "markdown",
   "metadata": {},
   "source": [
    "The solution to this problem is to simply define UGens like `SinOsc` within the scope of the function definition.  "
   ]
  },
  {
   "cell_type": "code",
   "execution_count": 8,
   "metadata": {},
   "outputs": [
    {
     "name": "stdout",
     "output_type": "stream",
     "text": []
    }
   ],
   "source": [
    "// Fixed\n",
    "{SinOsc.ar(440, mul: 0.1)}.play;"
   ]
  },
  {
   "cell_type": "code",
   "execution_count": 9,
   "metadata": {},
   "outputs": [
    {
     "name": "stdout",
     "output_type": "stream",
     "text": []
    }
   ],
   "source": [
    "CmdPeriod.run"
   ]
  },
  {
   "cell_type": "markdown",
   "metadata": {},
   "source": [
    "Full Confession: This is an issue that has long bothered me about the language and in my opinion is a design flaw.  Suffice it to say, functions that are intended to be played have special requirements.  We'll encounter other such quirks as we go.  This is something to watch out for though."
   ]
  },
  {
   "cell_type": "markdown",
   "metadata": {},
   "source": [
    "## Sawtooth Wave"
   ]
  },
  {
   "cell_type": "markdown",
   "metadata": {},
   "source": [
    "### Creating a Sawtooth Wave with Sine Waves\n",
    "\n",
    "We can build a sine wave by summing sine waves.  A true sawtooth wave is an infinite sum of sine waves.  Because computers can only perform finite calculations, our sine wave below will be capped.  Adding up around 25-30 sine waves should give us a good approximation.\n",
    "\n",
    "Recall that we can mathematically write the expression for a sawtooth wave $g(t)$ as:\n",
    "\n",
    "$$g(t) = \\sum_{n=1}^{\\infty}\\frac{A}{n}\\sin(2\\pi fnt) $$\n",
    "\n",
    "Note that the distinctive characteristic of the sine wave is that the amplitude of each successive sine wave is $1/n$ times smaller than the fundamental where $n$ is the harmonic number of the sine wave."
   ]
  },
  {
   "cell_type": "code",
   "execution_count": 9,
   "metadata": {},
   "outputs": [
    {
     "name": "stdout",
     "output_type": "stream",
     "text": []
    }
   ],
   "source": [
    "~saw = {\n",
    "    arg freq = 300, fundAmp = 0.2;\n",
    "    var numHarmonics = 25;\n",
    "    var sig = [0, 0];\n",
    "    \n",
    "    for(1, numHarmonics, {\n",
    "        |n| // harmonic number\n",
    "        sig = sig + (SinOsc.ar(freq * n, 0, fundAmp/n) ! 2) // add an array of two sines wave\n",
    "    });\n",
    "    \n",
    "    sig // return value is the array for left/right speaker\n",
    "};"
   ]
  },
  {
   "cell_type": "code",
   "execution_count": 29,
   "metadata": {},
   "outputs": [
    {
     "name": "stdout",
     "output_type": "stream",
     "text": []
    }
   ],
   "source": [
    "~saw.play"
   ]
  },
  {
   "cell_type": "code",
   "execution_count": 13,
   "metadata": {},
   "outputs": [
    {
     "name": "stdout",
     "output_type": "stream",
     "text": []
    }
   ],
   "source": [
    "~saw.plot"
   ]
  },
  {
   "cell_type": "code",
   "execution_count": 14,
   "metadata": {},
   "outputs": [
    {
     "name": "stdout",
     "output_type": "stream",
     "text": []
    }
   ],
   "source": [
    "s.scope;"
   ]
  },
  {
   "cell_type": "code",
   "execution_count": 30,
   "metadata": {},
   "outputs": [
    {
     "name": "stdout",
     "output_type": "stream",
     "text": []
    }
   ],
   "source": [
    "CmdPeriod.run"
   ]
  },
  {
   "cell_type": "markdown",
   "metadata": {},
   "source": [
    "In SuperCollider, you need not build up your own sawtooth wave using the additive synthesis technique above.  SuperCollider comes with two UGens to produce sine waves: [LFSaw](https://doc.sccode.org/Classes/LFSaw.html) and [Saw](https://doc.sccode.org/Classes/Saw.html).  `LFSaw` is a pure sawtooth wave in that contains every partial.  It has a perfectly straight ramp.  Because it contains all partials we say that the oscillator is **non-bandlimited**.  `LFSaw` contains a finite number of partials and is similar to the additive synthesis sawtooth we made above.  Because it contains only a finite number of partials we say that the oscillator is **bandlimited**. There are good reasons why you might want to use one over the other.  But we need to save that discussion until we discuss aliasing."
   ]
  },
  {
   "cell_type": "code",
   "execution_count": 24,
   "metadata": {},
   "outputs": [
    {
     "name": "stdout",
     "output_type": "stream",
     "text": []
    }
   ],
   "source": [
    "{LFSaw.ar(300, mul: 0.2) ! 2}.plot;"
   ]
  },
  {
   "cell_type": "code",
   "execution_count": 21,
   "metadata": {},
   "outputs": [
    {
     "name": "stdout",
     "output_type": "stream",
     "text": []
    }
   ],
   "source": [
    "CmdPeriod.run"
   ]
  },
  {
   "cell_type": "code",
   "execution_count": 25,
   "metadata": {},
   "outputs": [
    {
     "name": "stdout",
     "output_type": "stream",
     "text": []
    }
   ],
   "source": [
    "{Saw.ar(300, mul: 0.2) ! 2}.plot"
   ]
  },
  {
   "cell_type": "code",
   "execution_count": 23,
   "metadata": {},
   "outputs": [
    {
     "name": "stdout",
     "output_type": "stream",
     "text": []
    }
   ],
   "source": [
    "CmdPeriod.run"
   ]
  },
  {
   "cell_type": "markdown",
   "metadata": {},
   "source": [
    "## Triangle Wave\n",
    "\n",
    "A triangle wave also sums harmonics from the harmonic series.  It has several distinct characteristics:\n",
    "- Only contains odd harmonics\n",
    "- Amplitude of each harmonic is (1/harmonic_number)^2\n",
    "- Every other odd harmonic is 180 degrees out of phase\n",
    "\n",
    "The equation for a triangle wave $g(t)$ can be written as follows where $n = 2i - 1$:\n",
    "\n",
    "$$g(t) = \\sum_{i = 1}^{\\infty}(-1)^i\\frac{A}{n^2}\\sin(2\\pi fnt)$$\n",
    "\n",
    "Note that this equation accomplishes the phase shift by making use of the fact that $-\\sin(x) = \\sin(x + \\pi)$."
   ]
  },
  {
   "cell_type": "code",
   "execution_count": 26,
   "metadata": {},
   "outputs": [
    {
     "name": "stdout",
     "output_type": "stream",
     "text": []
    }
   ],
   "source": [
    "~triangle = {\n",
    "  arg freq = 300, fundAmp = 0.3;\n",
    "  var numHarmonics = 30;\n",
    "  var sig = [0, 0];\n",
    "  \n",
    "  for(1, numHarmonics, {\n",
    "    |i|\n",
    "    var n = 2 * i - 1; // Create the harmonic number\n",
    "    var phase = if(i % 2 == 0, {0}, {pi}); // Alternate phase - a conditional is an expression\n",
    "    sig = sig + SinOsc.ar(freq * n, phase, fundAmp * (1/n.squared));\n",
    "  });\n",
    "  \n",
    "  sig\n",
    "}"
   ]
  },
  {
   "cell_type": "code",
   "execution_count": 27,
   "metadata": {},
   "outputs": [
    {
     "name": "stdout",
     "output_type": "stream",
     "text": []
    }
   ],
   "source": [
    "~triangle.play"
   ]
  },
  {
   "cell_type": "code",
   "execution_count": 28,
   "metadata": {},
   "outputs": [
    {
     "name": "stdout",
     "output_type": "stream",
     "text": []
    }
   ],
   "source": [
    "~triangle.plot"
   ]
  },
  {
   "cell_type": "code",
   "execution_count": 28,
   "metadata": {},
   "outputs": [
    {
     "name": "stdout",
     "output_type": "stream",
     "text": []
    }
   ],
   "source": [
    "CmdPeriod.run"
   ]
  },
  {
   "cell_type": "markdown",
   "metadata": {},
   "source": [
    "SuperCollider comes with a UGen for a triangle wave called [LFTri](https://doc.sccode.org/Classes/LFTri.html).  Like `LFSaw`, `LFTri` is **non-bandlimited**.  It is a pure triangle wave with all partials and has a perfectly smooth ramp up and down.  "
   ]
  },
  {
   "cell_type": "code",
   "execution_count": 31,
   "metadata": {},
   "outputs": [
    {
     "name": "stdout",
     "output_type": "stream",
     "text": []
    }
   ],
   "source": [
    "{LFTri.ar(300, mul: 0.2) ! 2}.play"
   ]
  },
  {
   "cell_type": "code",
   "execution_count": 32,
   "metadata": {},
   "outputs": [
    {
     "name": "stdout",
     "output_type": "stream",
     "text": []
    }
   ],
   "source": [
    "CmdPeriod.run"
   ]
  },
  {
   "cell_type": "markdown",
   "metadata": {},
   "source": [
    "## Square Wave\n",
    "\n",
    "A square wave has the following properties:\n",
    "- Only contains odd harmonics\n",
    "- Amplitude of each harmonic is scaled by 1/harmonic_number\n",
    "- All harmonics are in phase\n",
    "\n",
    "The equation for a square wave $g(t)$ can be written as follows where $n = 2i - 1$:\n",
    "\n",
    "\n",
    "$$g(t) = \\sum_{i = 1}^{\\infty}\\frac{A}{n}\\sin(2\\pi nft)$$"
   ]
  },
  {
   "cell_type": "code",
   "execution_count": 33,
   "metadata": {},
   "outputs": [
    {
     "name": "stdout",
     "output_type": "stream",
     "text": []
    }
   ],
   "source": [
    "// Your code here\n",
    "\n",
    "~square = {\n",
    "  arg freq = 300, fundAmp = 0.3;\n",
    "  var numHarmonics = 30;\n",
    "  var sig = [0, 0];\n",
    "  \n",
    "  for(1, numHarmonics, {\n",
    "    |i|\n",
    "    var n = 2 * i - 1; // Create the harmonic number\n",
    "    sig = sig + SinOsc.ar(freq * n, 0, fundAmp/n);\n",
    "  });\n",
    "  \n",
    "  sig\n",
    "}"
   ]
  },
  {
   "cell_type": "code",
   "execution_count": 34,
   "metadata": {},
   "outputs": [
    {
     "name": "stdout",
     "output_type": "stream",
     "text": []
    }
   ],
   "source": [
    "~square.play"
   ]
  },
  {
   "cell_type": "code",
   "execution_count": 35,
   "metadata": {},
   "outputs": [
    {
     "name": "stdout",
     "output_type": "stream",
     "text": []
    }
   ],
   "source": [
    "~square.plot"
   ]
  },
  {
   "cell_type": "code",
   "execution_count": 36,
   "metadata": {},
   "outputs": [
    {
     "name": "stdout",
     "output_type": "stream",
     "text": []
    }
   ],
   "source": [
    "CmdPeriod.run"
   ]
  },
  {
   "cell_type": "markdown",
   "metadata": {},
   "source": [
    "SuperCollider has bandlimited and non-bandlimited UGens for creating square waves.  See the discussion of Pulse Waves below for examples."
   ]
  },
  {
   "cell_type": "markdown",
   "metadata": {},
   "source": [
    "## Pulse Wave\n",
    "\n",
    "A square wave is a special instance of a pulse wave (also called a rectangle wave).  There is not a succinct set of criteria to describe the pulse wave as there are for the other waves because the scaling of each harmonic is more complicated.  \n",
    "\n",
    "Like the other waves, the pulse wave is also created from a sum of harmonic sinusoids.\n",
    "\n",
    "$$g(t)=dA + \\sum _{n=1}^{\\infty }\\frac {2A}{\\pi n}\\sin(\\pi dn)\\cos(2\\pi fnt)$$\n",
    "\n",
    "Notice that the sine is not a function of time.  It serves as a scaling factor for the amplitude of a series of cosine waves.  The $d$ in this equation is called the duty cycle.  The duty cycle is the percentage of the period where the pulse wave is high.  Therefore, a duty cycle of 0.5 is equivalent to a square wave."
   ]
  },
  {
   "cell_type": "code",
   "execution_count": 7,
   "metadata": {},
   "outputs": [
    {
     "name": "stdout",
     "output_type": "stream",
     "text": []
    }
   ],
   "source": [
    "~pulse = {\n",
    "  arg freq = 300, fundAmp = 0.2, d = 0.5;\n",
    "  var numHarmonics = 30;\n",
    "  var sig = [0, 0];\n",
    "  \n",
    "  for(1, numHarmonics, {\n",
    "    |n| // harmonic number\n",
    "    var harmonic = (2 * fundAmp)/(pi * n) * (n * pi * d).sin * SinOsc.ar(freq * n, pi/2);\n",
    "    sig = sig + harmonic;\n",
    "  });\n",
    "  \n",
    "  (d * fundAmp) + sig // 2/pi multiplies each element in the array\n",
    "}"
   ]
  },
  {
   "cell_type": "code",
   "execution_count": 8,
   "metadata": {},
   "outputs": [
    {
     "name": "stdout",
     "output_type": "stream",
     "text": []
    }
   ],
   "source": [
    "~pulse.play"
   ]
  },
  {
   "cell_type": "code",
   "execution_count": 9,
   "metadata": {},
   "outputs": [
    {
     "name": "stdout",
     "output_type": "stream",
     "text": []
    }
   ],
   "source": [
    "~pulse.plot"
   ]
  },
  {
   "cell_type": "code",
   "execution_count": 10,
   "metadata": {},
   "outputs": [
    {
     "name": "stdout",
     "output_type": "stream",
     "text": []
    }
   ],
   "source": [
    "CmdPeriod.run"
   ]
  },
  {
   "cell_type": "markdown",
   "metadata": {},
   "source": [
    "SuperCollider has a bandlimited pulse wave called [Pulse](http://doc.sccode.org/Classes/Pulse.html) and a non-bandlimited pulse wave called [LFPulse](http://doc.sccode.org/Classes/LFPulse.html).  We can use these two UGens to create any pulse wave including a square wave."
   ]
  },
  {
   "cell_type": "code",
   "execution_count": 43,
   "metadata": {},
   "outputs": [
    {
     "name": "stdout",
     "output_type": "stream",
     "text": []
    }
   ],
   "source": [
    "{LFPulse.ar(300, width: 0.25, mul: 0.1) ! 2}.play // width here is the duty cycle - 0.5 is square wave"
   ]
  },
  {
   "cell_type": "code",
   "execution_count": 50,
   "metadata": {},
   "outputs": [
    {
     "name": "stdout",
     "output_type": "stream",
     "text": []
    }
   ],
   "source": [
    "{Pulse.ar(300, width: 0.5, mul: 0.1) ! 2}.play // width here is the duty cycle - 0.5 is a square wave"
   ]
  },
  {
   "cell_type": "code",
   "execution_count": 44,
   "metadata": {},
   "outputs": [
    {
     "name": "stdout",
     "output_type": "stream",
     "text": []
    }
   ],
   "source": [
    "CmdPeriod.run"
   ]
  },
  {
   "cell_type": "markdown",
   "metadata": {},
   "source": [
    "## Play With A Keyboard\n",
    "\n",
    "Below you can hook up a MIDI keyboard and try and play some of these waves.  You can change the wave type by adjusting the UGen set to `sig` in the code below.  We'll talk more about how this code works at a later date."
   ]
  },
  {
   "cell_type": "code",
   "execution_count": 47,
   "metadata": {},
   "outputs": [
    {
     "name": "stdout",
     "output_type": "stream",
     "text": []
    }
   ],
   "source": [
    "var notesDict = Dictionary.new;\n",
    "MIDIClient.init;\n",
    "MIDIIn.connectAll;\n",
    "\n",
    "SynthDef(\\classic, {\n",
    "  arg out = 0, freq, amp = 0.1, gate = 1;\n",
    "  var sig, env;\n",
    "  sig = SinOsc.ar(freq, mul: amp); // Try with LFTri.ar, Saw.ar or Pulse.ar\n",
    "  env = Env.adsr(0.1, 0.1, 0.9 * amp, 1, amp);\n",
    "  env = EnvGen.kr(env, gate, doneAction: 2);\n",
    "  sig = sig * env;\n",
    "  Out.ar(out, sig ! 2);\n",
    "}).add;\n",
    "\n",
    "MIDIdef.noteOn(\\adsrOn, {\n",
    "  |vel, num, chan, src|\n",
    "  var freq = num.midicps;\n",
    "  var amp = vel.linexp(0, 127, 0.5, 0.6);\n",
    "  var synth = Synth(\\classic, [\\freq, freq, \\amp, amp]);\n",
    "  notesDict[num] = synth;\n",
    "});\n",
    "\n",
    "MIDIdef.noteOff(\\adsrOff, {\n",
    "  |vel, num, chan, src|\n",
    "  var synth = notesDict.at(num);\n",
    "  synth.set(\\gate, 0);\n",
    "  notesDict.removeAt(num);\n",
    "});"
   ]
  },
  {
   "cell_type": "code",
   "execution_count": 2,
   "metadata": {},
   "outputs": [
    {
     "name": "stdout",
     "output_type": "stream",
     "text": []
    }
   ],
   "source": [
    "FreqScope.new"
   ]
  },
  {
   "cell_type": "code",
   "execution_count": 60,
   "metadata": {},
   "outputs": [
    {
     "name": "stdout",
     "output_type": "stream",
     "text": []
    }
   ],
   "source": [
    "s.meter"
   ]
  }
 ],
 "metadata": {
  "kernelspec": {
   "display_name": "SC_Kernel",
   "language": "text",
   "name": "sckernel"
  },
  "language_info": {
   "codemirror_mode": "sclang",
   "name": "sclang"
  }
 },
 "nbformat": 4,
 "nbformat_minor": 4
}
